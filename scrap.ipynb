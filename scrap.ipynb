{
 "cells": [
  {
   "cell_type": "code",
   "execution_count": 1,
   "metadata": {},
   "outputs": [
    {
     "name": "stdout",
     "output_type": "stream",
     "text": [
      "1. Support Center\n",
      "   Link: https://www.binance.com/en/support\n",
      "2. Announcement\n",
      "   Link: https://www.binance.com/en/support/announcement\n",
      "3. Notice on New Trading Pairs & Trading Bots Services on Binance Spot - 2024-12-11\n",
      "   Link: https://www.binance.com/en/support/announcement/notice-on-new-trading-pairs-trading-bots-services-on-binance-spot-2024-12-11-051dfa3148cb43b5a607ca7a1346fbbf\n",
      "4. Binance Futures Will Launch USDⓈ-Margined RAYSOLUSDT, KOMAUSDT, VIRTUALUSDT, and SPXUSDT Perpetual Contracts With up to 75x Leverage\n",
      "   Link: https://www.binance.com/en/support/announcement/binance-futures-will-launch-usd%E2%93%A2-margined-raysolusdt-komausdt-virtualusdt-and-spxusdt-perpetual-contracts-with-up-to-75x-leverage-43f5771df16344a8b5ce26f67d21fc0d\n",
      "5. Binance Will List Magic Eden (ME) with Seed Tag Applied\n",
      "   Link: https://www.binance.com/en/support/announcement/binance-will-list-magic-eden-me-with-seed-tag-applied-d4f72bdd82d44a0591ee40d41f0b44d5\n",
      "6. Binance Will Add Movement (MOVE) on Earn, Buy Crypto, Convert, Margin & Futures\n",
      "   Link: https://www.binance.com/en/support/announcement/binance-will-add-movement-move-on-earn-buy-crypto-convert-margin-futures-5cbdc8e506644364a281d614a19afbb6\n",
      "7. Movement (MOVE) Listing Will Be Advanced\n",
      "   Link: https://www.binance.com/en/support/announcement/movement-move-listing-will-be-advanced-601c0c23d12e40ee80310ac5e7c6369e\n",
      "8. Introducing Movement (MOVE) on Binance HODLer Airdrops! Subscribe your BNB to Simple Earn\n",
      "   Link: https://www.binance.com/en/support/announcement/introducing-movement-move-on-binance-hodler-airdrops-subscribe-your-bnb-to-simple-earn-8a585286abc547d293e269beeb6b9bf3\n",
      "9. Binance Will Add Across Protocol (ACX) and Orca (ORCA) on Earn, Buy Crypto, Convert, Margin & Futures\n",
      "   Link: https://www.binance.com/en/support/announcement/binance-will-add-across-protocol-acx-and-orca-orca-on-earn-buy-crypto-convert-margin-futures-bb1e28bf562341cfbd67791081533fa0\n",
      "10. Binance Will List Across Protocol (ACX) and Orca (ORCA) with Seed Tag Applied\n",
      "   Link: https://www.binance.com/en/support/announcement/binance-will-list-across-protocol-acx-and-orca-orca-with-seed-tag-applied-b8b988973b88493192f2e43ba26da331\n",
      "11. Notice on New Trading Pairs & Trading Bots Services on Binance Spot - 2024-12-06\n",
      "   Link: https://www.binance.com/en/support/announcement/notice-on-new-trading-pairs-trading-bots-services-on-binance-spot-2024-12-06-aa40cb409c5444068432164c3c916f3a\n",
      "12. Binance Futures Will Launch USDⓈ-Margined KAIAUSDT and AEROUSDT Perpetual Contracts With up to 75x Leverage\n",
      "   Link: https://www.binance.com/en/support/announcement/binance-futures-will-launch-usd%E2%93%A2-margined-kaiausdt-and-aerousdt-perpetual-contracts-with-up-to-75x-leverage-beac1e0a0edf4fe69d5e5c45f9d60343\n",
      "13. Notice on New Trading Pairs & Trading Bots Services on Binance Spot - 2024-12-11\n",
      "   Link: https://www.binance.com/en/support/announcement/notice-on-new-trading-pairs-trading-bots-services-on-binance-spot-2024-12-11-051dfa3148cb43b5a607ca7a1346fbbf\n",
      "14. Binance Futures Will Launch USDⓈ-Margined RAYSOLUSDT, KOMAUSDT, VIRTUALUSDT, and SPXUSDT Perpetual Contracts With up to 75x Leverage\n",
      "   Link: https://www.binance.com/en/support/announcement/binance-futures-will-launch-usd%E2%93%A2-margined-raysolusdt-komausdt-virtualusdt-and-spxusdt-perpetual-contracts-with-up-to-75x-leverage-43f5771df16344a8b5ce26f67d21fc0d\n",
      "15. Learn & Earn: Complete Courses & Quizzes to Earn EIGEN Rewards in Locked Products! (2024-12-10)\n",
      "   Link: https://www.binance.com/en/support/announcement/learn-earn-complete-courses-quizzes-to-earn-eigen-rewards-in-locked-products-2024-12-10-a8a80d8880034fc3aa0d288757c499b2\n",
      "16. Launching the $5M Airdrop Carnival: Experience the Revamped Binance Wallet via the Largest Airdrop Platform\n",
      "   Link: https://www.binance.com/en/support/announcement/launching-the-5m-airdrop-carnival-experience-the-revamped-binance-wallet-via-the-largest-airdrop-platform-ced2f229911c445b8541e01fe169653b\n",
      "17. Binance Will List Magic Eden (ME) with Seed Tag Applied\n",
      "   Link: https://www.binance.com/en/support/announcement/binance-will-list-magic-eden-me-with-seed-tag-applied-d4f72bdd82d44a0591ee40d41f0b44d5\n"
     ]
    }
   ],
   "source": [
    "import requests\n",
    "from bs4 import BeautifulSoup\n",
    "\n",
    "def scrape_binance_announcements(url):\n",
    "    # Make a request to the Binance announcements page\n",
    "    response = requests.get(url)\n",
    "    if response.status_code != 200:\n",
    "        print(\"Failed to retrieve the webpage.\")\n",
    "        return\n",
    "    \n",
    "    # Parse the content using BeautifulSoup\n",
    "    soup = BeautifulSoup(response.text, 'html.parser')\n",
    "\n",
    "    # Find announcement titles and their links\n",
    "    announcements = []\n",
    "    for announcement in soup.find_all('a', class_='text-PrimaryText'):  # Adjust class based on actual page structure\n",
    "        title = announcement.text.strip()\n",
    "        link = announcement.get('href')\n",
    "        if link and not link.startswith('http'):\n",
    "            link = f\"https://www.binance.com{link}\"\n",
    "        announcements.append({'title': title, 'link': link})\n",
    "\n",
    "    # Display the extracted announcements\n",
    "    for i, ann in enumerate(announcements, start=1):\n",
    "        print(f\"{i}. {ann['title']}\")\n",
    "        print(f\"   Link: {ann['link']}\")\n",
    "\n",
    "# URL of the Binance announcements page\n",
    "url = \"https://www.binance.com/en/support/announcement/new-cryptocurrency-listing?c=48&navId=48&hl=en\"\n",
    "\n",
    "scrape_binance_announcements(url)\n"
   ]
  }
 ],
 "metadata": {
  "kernelspec": {
   "display_name": ".venv",
   "language": "python",
   "name": "python3"
  },
  "language_info": {
   "codemirror_mode": {
    "name": "ipython",
    "version": 3
   },
   "file_extension": ".py",
   "mimetype": "text/x-python",
   "name": "python",
   "nbconvert_exporter": "python",
   "pygments_lexer": "ipython3",
   "version": "3.9.9"
  }
 },
 "nbformat": 4,
 "nbformat_minor": 2
}
